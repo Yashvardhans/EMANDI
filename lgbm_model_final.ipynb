{
 "cells": [
  {
   "attachments": {},
   "cell_type": "markdown",
   "metadata": {},
   "source": [
    "Importing Libraies"
   ]
  },
  {
   "cell_type": "code",
   "execution_count": 1,
   "metadata": {},
   "outputs": [],
   "source": [
    "import numpy as np\n",
    "import pandas as pd\n",
    "import lightgbm as lgb\n",
    "from sklearn.metrics import mean_squared_error, r2_score\n",
    "from sklearn.model_selection import train_test_split\n",
    "from sklearn.preprocessing import MinMaxScaler, LabelEncoder"
   ]
  },
  {
   "cell_type": "code",
   "execution_count": 2,
   "metadata": {},
   "outputs": [],
   "source": [
    "# ---- Disable Warnings ----#\n",
    "pd.options.mode.chained_assignment = None"
   ]
  },
  {
   "attachments": {},
   "cell_type": "markdown",
   "metadata": {},
   "source": [
    "Reading the Dataset"
   ]
  },
  {
   "cell_type": "code",
   "execution_count": 3,
   "metadata": {},
   "outputs": [
    {
     "data": {
      "text/html": [
       "<div>\n",
       "<style scoped>\n",
       "    .dataframe tbody tr th:only-of-type {\n",
       "        vertical-align: middle;\n",
       "    }\n",
       "\n",
       "    .dataframe tbody tr th {\n",
       "        vertical-align: top;\n",
       "    }\n",
       "\n",
       "    .dataframe thead th {\n",
       "        text-align: right;\n",
       "    }\n",
       "</style>\n",
       "<table border=\"1\" class=\"dataframe\">\n",
       "  <thead>\n",
       "    <tr style=\"text-align: right;\">\n",
       "      <th></th>\n",
       "      <th>Sl no.</th>\n",
       "      <th>District Name</th>\n",
       "      <th>Market Name</th>\n",
       "      <th>Commodity</th>\n",
       "      <th>Variety</th>\n",
       "      <th>Grade</th>\n",
       "      <th>Min Price (Rs./Quintal)</th>\n",
       "      <th>Max Price (Rs./Quintal)</th>\n",
       "      <th>Modal Price (Rs./Quintal)</th>\n",
       "      <th>Price Date</th>\n",
       "    </tr>\n",
       "  </thead>\n",
       "  <tbody>\n",
       "    <tr>\n",
       "      <th>0</th>\n",
       "      <td>589</td>\n",
       "      <td>Jhabua</td>\n",
       "      <td>Jhabua</td>\n",
       "      <td>Cotton</td>\n",
       "      <td>Desi</td>\n",
       "      <td>FAQ</td>\n",
       "      <td>4800.0</td>\n",
       "      <td>4900.0</td>\n",
       "      <td>4850.0</td>\n",
       "      <td>2020-01-01</td>\n",
       "    </tr>\n",
       "    <tr>\n",
       "      <th>1</th>\n",
       "      <td>590</td>\n",
       "      <td>Jhabua</td>\n",
       "      <td>Jhabua</td>\n",
       "      <td>Cotton</td>\n",
       "      <td>DCH-32 (Ginned)</td>\n",
       "      <td>FAQ</td>\n",
       "      <td>5800.0</td>\n",
       "      <td>5900.0</td>\n",
       "      <td>5850.0</td>\n",
       "      <td>2020-01-01</td>\n",
       "    </tr>\n",
       "    <tr>\n",
       "      <th>2</th>\n",
       "      <td>992</td>\n",
       "      <td>Dhar</td>\n",
       "      <td>Manawar</td>\n",
       "      <td>Cotton</td>\n",
       "      <td>Other</td>\n",
       "      <td>FAQ</td>\n",
       "      <td>4800.0</td>\n",
       "      <td>5300.0</td>\n",
       "      <td>5150.0</td>\n",
       "      <td>2020-01-01</td>\n",
       "    </tr>\n",
       "    <tr>\n",
       "      <th>3</th>\n",
       "      <td>1268</td>\n",
       "      <td>Badwani</td>\n",
       "      <td>Sendhwa</td>\n",
       "      <td>Cotton</td>\n",
       "      <td>H4</td>\n",
       "      <td>FAQ</td>\n",
       "      <td>4400.0</td>\n",
       "      <td>5401.0</td>\n",
       "      <td>4911.0</td>\n",
       "      <td>2020-01-01</td>\n",
       "    </tr>\n",
       "    <tr>\n",
       "      <th>4</th>\n",
       "      <td>2222</td>\n",
       "      <td>Harda</td>\n",
       "      <td>Harda</td>\n",
       "      <td>Lentil (Masur)(Whole)</td>\n",
       "      <td>Kala Masoor New</td>\n",
       "      <td>FAQ</td>\n",
       "      <td>3400.0</td>\n",
       "      <td>3400.0</td>\n",
       "      <td>3400.0</td>\n",
       "      <td>2020-01-01</td>\n",
       "    </tr>\n",
       "  </tbody>\n",
       "</table>\n",
       "</div>"
      ],
      "text/plain": [
       "   Sl no. District Name Market Name              Commodity          Variety   \n",
       "0     589        Jhabua      Jhabua                 Cotton             Desi  \\\n",
       "1     590        Jhabua      Jhabua                 Cotton  DCH-32 (Ginned)   \n",
       "2     992          Dhar     Manawar                 Cotton            Other   \n",
       "3    1268       Badwani     Sendhwa                 Cotton               H4   \n",
       "4    2222         Harda       Harda  Lentil (Masur)(Whole)  Kala Masoor New   \n",
       "\n",
       "  Grade  Min Price (Rs./Quintal)  Max Price (Rs./Quintal)   \n",
       "0   FAQ                   4800.0                   4900.0  \\\n",
       "1   FAQ                   5800.0                   5900.0   \n",
       "2   FAQ                   4800.0                   5300.0   \n",
       "3   FAQ                   4400.0                   5401.0   \n",
       "4   FAQ                   3400.0                   3400.0   \n",
       "\n",
       "   Modal Price (Rs./Quintal)  Price Date  \n",
       "0                     4850.0  2020-01-01  \n",
       "1                     5850.0  2020-01-01  \n",
       "2                     5150.0  2020-01-01  \n",
       "3                     4911.0  2020-01-01  \n",
       "4                     3400.0  2020-01-01  "
      ]
     },
     "execution_count": 3,
     "metadata": {},
     "output_type": "execute_result"
    }
   ],
   "source": [
    "df = pd.read_csv('dataset/dataset_final.csv')\n",
    "df.head()"
   ]
  },
  {
   "cell_type": "code",
   "execution_count": 4,
   "metadata": {},
   "outputs": [
    {
     "name": "stdout",
     "output_type": "stream",
     "text": [
      "<class 'pandas.core.frame.DataFrame'>\n",
      "RangeIndex: 266382 entries, 0 to 266381\n",
      "Data columns (total 10 columns):\n",
      " #   Column                     Non-Null Count   Dtype  \n",
      "---  ------                     --------------   -----  \n",
      " 0   Sl no.                     266382 non-null  int64  \n",
      " 1   District Name              266382 non-null  object \n",
      " 2   Market Name                266382 non-null  object \n",
      " 3   Commodity                  266382 non-null  object \n",
      " 4   Variety                    266382 non-null  object \n",
      " 5   Grade                      266382 non-null  object \n",
      " 6   Min Price (Rs./Quintal)    266382 non-null  float64\n",
      " 7   Max Price (Rs./Quintal)    266382 non-null  float64\n",
      " 8   Modal Price (Rs./Quintal)  266382 non-null  float64\n",
      " 9   Price Date                 266382 non-null  object \n",
      "dtypes: float64(3), int64(1), object(6)\n",
      "memory usage: 20.3+ MB\n"
     ]
    }
   ],
   "source": [
    "df.info()"
   ]
  },
  {
   "cell_type": "code",
   "execution_count": 5,
   "metadata": {},
   "outputs": [
    {
     "data": {
      "text/plain": [
       "Sl no.                       0\n",
       "District Name                0\n",
       "Market Name                  0\n",
       "Commodity                    0\n",
       "Variety                      0\n",
       "Grade                        0\n",
       "Min Price (Rs./Quintal)      0\n",
       "Max Price (Rs./Quintal)      0\n",
       "Modal Price (Rs./Quintal)    0\n",
       "Price Date                   0\n",
       "dtype: int64"
      ]
     },
     "execution_count": 5,
     "metadata": {},
     "output_type": "execute_result"
    }
   ],
   "source": [
    "df.isnull().sum()"
   ]
  },
  {
   "cell_type": "code",
   "execution_count": 6,
   "metadata": {},
   "outputs": [
    {
     "data": {
      "text/plain": [
       "Index(['Sl no.', 'District Name', 'Market Name', 'Commodity', 'Variety',\n",
       "       'Grade', 'Min Price (Rs./Quintal)', 'Max Price (Rs./Quintal)',\n",
       "       'Modal Price (Rs./Quintal)', 'Price Date'],\n",
       "      dtype='object')"
      ]
     },
     "execution_count": 6,
     "metadata": {},
     "output_type": "execute_result"
    }
   ],
   "source": [
    "df.columns"
   ]
  },
  {
   "attachments": {},
   "cell_type": "markdown",
   "metadata": {},
   "source": [
    "Pre-processing of Dataset"
   ]
  },
  {
   "cell_type": "code",
   "execution_count": 7,
   "metadata": {},
   "outputs": [
    {
     "data": {
      "text/html": [
       "<div>\n",
       "<style scoped>\n",
       "    .dataframe tbody tr th:only-of-type {\n",
       "        vertical-align: middle;\n",
       "    }\n",
       "\n",
       "    .dataframe tbody tr th {\n",
       "        vertical-align: top;\n",
       "    }\n",
       "\n",
       "    .dataframe thead th {\n",
       "        text-align: right;\n",
       "    }\n",
       "</style>\n",
       "<table border=\"1\" class=\"dataframe\">\n",
       "  <thead>\n",
       "    <tr style=\"text-align: right;\">\n",
       "      <th></th>\n",
       "      <th>Market Name</th>\n",
       "      <th>Commodity</th>\n",
       "      <th>Variety</th>\n",
       "      <th>Modal Price (Rs./Quintal)</th>\n",
       "      <th>Price Date</th>\n",
       "    </tr>\n",
       "  </thead>\n",
       "  <tbody>\n",
       "    <tr>\n",
       "      <th>0</th>\n",
       "      <td>Jhabua</td>\n",
       "      <td>Cotton</td>\n",
       "      <td>Desi</td>\n",
       "      <td>4850.0</td>\n",
       "      <td>2020-01-01</td>\n",
       "    </tr>\n",
       "    <tr>\n",
       "      <th>1</th>\n",
       "      <td>Jhabua</td>\n",
       "      <td>Cotton</td>\n",
       "      <td>DCH-32 (Ginned)</td>\n",
       "      <td>5850.0</td>\n",
       "      <td>2020-01-01</td>\n",
       "    </tr>\n",
       "    <tr>\n",
       "      <th>2</th>\n",
       "      <td>Manawar</td>\n",
       "      <td>Cotton</td>\n",
       "      <td>Other</td>\n",
       "      <td>5150.0</td>\n",
       "      <td>2020-01-01</td>\n",
       "    </tr>\n",
       "    <tr>\n",
       "      <th>3</th>\n",
       "      <td>Sendhwa</td>\n",
       "      <td>Cotton</td>\n",
       "      <td>H4</td>\n",
       "      <td>4911.0</td>\n",
       "      <td>2020-01-01</td>\n",
       "    </tr>\n",
       "    <tr>\n",
       "      <th>4</th>\n",
       "      <td>Harda</td>\n",
       "      <td>Lentil (Masur)(Whole)</td>\n",
       "      <td>Kala Masoor New</td>\n",
       "      <td>3400.0</td>\n",
       "      <td>2020-01-01</td>\n",
       "    </tr>\n",
       "  </tbody>\n",
       "</table>\n",
       "</div>"
      ],
      "text/plain": [
       "  Market Name              Commodity          Variety   \n",
       "0      Jhabua                 Cotton             Desi  \\\n",
       "1      Jhabua                 Cotton  DCH-32 (Ginned)   \n",
       "2     Manawar                 Cotton            Other   \n",
       "3     Sendhwa                 Cotton               H4   \n",
       "4       Harda  Lentil (Masur)(Whole)  Kala Masoor New   \n",
       "\n",
       "   Modal Price (Rs./Quintal)  Price Date  \n",
       "0                     4850.0  2020-01-01  \n",
       "1                     5850.0  2020-01-01  \n",
       "2                     5150.0  2020-01-01  \n",
       "3                     4911.0  2020-01-01  \n",
       "4                     3400.0  2020-01-01  "
      ]
     },
     "execution_count": 7,
     "metadata": {},
     "output_type": "execute_result"
    }
   ],
   "source": [
    "required_data = df[['Market Name', 'Commodity', 'Variety', 'Modal Price (Rs./Quintal)', 'Price Date']]\n",
    "required_data.head()"
   ]
  },
  {
   "attachments": {},
   "cell_type": "markdown",
   "metadata": {},
   "source": [
    "Normalizing the 'Modal Price' Column"
   ]
  },
  {
   "cell_type": "code",
   "execution_count": 8,
   "metadata": {},
   "outputs": [],
   "source": [
    "scaler = MinMaxScaler(feature_range=(0,1))\n",
    "required_data['Modal Price (Rs./Quintal)'] = scaler.fit_transform(required_data['Modal Price (Rs./Quintal)'].values.reshape(-1,1))"
   ]
  },
  {
   "attachments": {},
   "cell_type": "markdown",
   "metadata": {},
   "source": [
    "Encoding Market Name, Variety, and Commodity values"
   ]
  },
  {
   "cell_type": "code",
   "execution_count": 9,
   "metadata": {},
   "outputs": [],
   "source": [
    "encode_market = LabelEncoder()\n",
    "encode_variety = LabelEncoder()\n",
    "encode_commodity = LabelEncoder()\n",
    "required_data['Market Name_Encoded'] = encode_market.fit_transform(required_data['Market Name'].values)\n",
    "required_data['Variety_Encoded'] = encode_variety.fit_transform(required_data['Variety'].values) \n",
    "required_data['Commodity_Encoded'] = encode_commodity.fit_transform(required_data['Commodity'].values)"
   ]
  },
  {
   "cell_type": "code",
   "execution_count": 10,
   "metadata": {},
   "outputs": [
    {
     "data": {
      "text/html": [
       "<div>\n",
       "<style scoped>\n",
       "    .dataframe tbody tr th:only-of-type {\n",
       "        vertical-align: middle;\n",
       "    }\n",
       "\n",
       "    .dataframe tbody tr th {\n",
       "        vertical-align: top;\n",
       "    }\n",
       "\n",
       "    .dataframe thead th {\n",
       "        text-align: right;\n",
       "    }\n",
       "</style>\n",
       "<table border=\"1\" class=\"dataframe\">\n",
       "  <thead>\n",
       "    <tr style=\"text-align: right;\">\n",
       "      <th></th>\n",
       "      <th>Market Name</th>\n",
       "      <th>Commodity</th>\n",
       "      <th>Variety</th>\n",
       "      <th>Modal Price (Rs./Quintal)</th>\n",
       "      <th>Price Date</th>\n",
       "      <th>Market Name_Encoded</th>\n",
       "      <th>Variety_Encoded</th>\n",
       "      <th>Commodity_Encoded</th>\n",
       "    </tr>\n",
       "  </thead>\n",
       "  <tbody>\n",
       "    <tr>\n",
       "      <th>0</th>\n",
       "      <td>Jhabua</td>\n",
       "      <td>Cotton</td>\n",
       "      <td>Desi</td>\n",
       "      <td>0.341407</td>\n",
       "      <td>2020-01-01</td>\n",
       "      <td>106</td>\n",
       "      <td>13</td>\n",
       "      <td>1</td>\n",
       "    </tr>\n",
       "    <tr>\n",
       "      <th>1</th>\n",
       "      <td>Jhabua</td>\n",
       "      <td>Cotton</td>\n",
       "      <td>DCH-32 (Ginned)</td>\n",
       "      <td>0.413283</td>\n",
       "      <td>2020-01-01</td>\n",
       "      <td>106</td>\n",
       "      <td>7</td>\n",
       "      <td>1</td>\n",
       "    </tr>\n",
       "    <tr>\n",
       "      <th>2</th>\n",
       "      <td>Manawar</td>\n",
       "      <td>Cotton</td>\n",
       "      <td>Other</td>\n",
       "      <td>0.362970</td>\n",
       "      <td>2020-01-01</td>\n",
       "      <td>152</td>\n",
       "      <td>41</td>\n",
       "      <td>1</td>\n",
       "    </tr>\n",
       "    <tr>\n",
       "      <th>3</th>\n",
       "      <td>Sendhwa</td>\n",
       "      <td>Cotton</td>\n",
       "      <td>H4</td>\n",
       "      <td>0.345792</td>\n",
       "      <td>2020-01-01</td>\n",
       "      <td>216</td>\n",
       "      <td>15</td>\n",
       "      <td>1</td>\n",
       "    </tr>\n",
       "    <tr>\n",
       "      <th>4</th>\n",
       "      <td>Harda</td>\n",
       "      <td>Lentil (Masur)(Whole)</td>\n",
       "      <td>Kala Masoor New</td>\n",
       "      <td>0.237188</td>\n",
       "      <td>2020-01-01</td>\n",
       "      <td>88</td>\n",
       "      <td>19</td>\n",
       "      <td>3</td>\n",
       "    </tr>\n",
       "    <tr>\n",
       "      <th>...</th>\n",
       "      <td>...</td>\n",
       "      <td>...</td>\n",
       "      <td>...</td>\n",
       "      <td>...</td>\n",
       "      <td>...</td>\n",
       "      <td>...</td>\n",
       "      <td>...</td>\n",
       "      <td>...</td>\n",
       "    </tr>\n",
       "    <tr>\n",
       "      <th>266377</th>\n",
       "      <td>Ujjain</td>\n",
       "      <td>Wheat</td>\n",
       "      <td>Lokwan</td>\n",
       "      <td>0.176094</td>\n",
       "      <td>2022-12-31</td>\n",
       "      <td>253</td>\n",
       "      <td>27</td>\n",
       "      <td>8</td>\n",
       "    </tr>\n",
       "    <tr>\n",
       "      <th>266378</th>\n",
       "      <td>Ujjain</td>\n",
       "      <td>Wheat</td>\n",
       "      <td>Other</td>\n",
       "      <td>0.183282</td>\n",
       "      <td>2022-12-31</td>\n",
       "      <td>253</td>\n",
       "      <td>41</td>\n",
       "      <td>8</td>\n",
       "    </tr>\n",
       "    <tr>\n",
       "      <th>266379</th>\n",
       "      <td>Unhel</td>\n",
       "      <td>Wheat</td>\n",
       "      <td>Lok -1 (Nilami Rate)</td>\n",
       "      <td>0.193991</td>\n",
       "      <td>2022-12-31</td>\n",
       "      <td>255</td>\n",
       "      <td>25</td>\n",
       "      <td>8</td>\n",
       "    </tr>\n",
       "    <tr>\n",
       "      <th>266380</th>\n",
       "      <td>Vidisha</td>\n",
       "      <td>Wheat</td>\n",
       "      <td>Sharbati</td>\n",
       "      <td>0.179329</td>\n",
       "      <td>2022-12-31</td>\n",
       "      <td>257</td>\n",
       "      <td>48</td>\n",
       "      <td>8</td>\n",
       "    </tr>\n",
       "    <tr>\n",
       "      <th>266381</th>\n",
       "      <td>Vidisha</td>\n",
       "      <td>Wheat</td>\n",
       "      <td>Other</td>\n",
       "      <td>0.168260</td>\n",
       "      <td>2022-12-31</td>\n",
       "      <td>257</td>\n",
       "      <td>41</td>\n",
       "      <td>8</td>\n",
       "    </tr>\n",
       "  </tbody>\n",
       "</table>\n",
       "<p>266382 rows × 8 columns</p>\n",
       "</div>"
      ],
      "text/plain": [
       "       Market Name              Commodity               Variety   \n",
       "0           Jhabua                 Cotton                  Desi  \\\n",
       "1           Jhabua                 Cotton       DCH-32 (Ginned)   \n",
       "2          Manawar                 Cotton                 Other   \n",
       "3          Sendhwa                 Cotton                    H4   \n",
       "4            Harda  Lentil (Masur)(Whole)       Kala Masoor New   \n",
       "...            ...                    ...                   ...   \n",
       "266377      Ujjain                  Wheat                Lokwan   \n",
       "266378      Ujjain                  Wheat                 Other   \n",
       "266379       Unhel                  Wheat  Lok -1 (Nilami Rate)   \n",
       "266380     Vidisha                  Wheat              Sharbati   \n",
       "266381     Vidisha                  Wheat                 Other   \n",
       "\n",
       "        Modal Price (Rs./Quintal)  Price Date  Market Name_Encoded   \n",
       "0                        0.341407  2020-01-01                  106  \\\n",
       "1                        0.413283  2020-01-01                  106   \n",
       "2                        0.362970  2020-01-01                  152   \n",
       "3                        0.345792  2020-01-01                  216   \n",
       "4                        0.237188  2020-01-01                   88   \n",
       "...                           ...         ...                  ...   \n",
       "266377                   0.176094  2022-12-31                  253   \n",
       "266378                   0.183282  2022-12-31                  253   \n",
       "266379                   0.193991  2022-12-31                  255   \n",
       "266380                   0.179329  2022-12-31                  257   \n",
       "266381                   0.168260  2022-12-31                  257   \n",
       "\n",
       "        Variety_Encoded  Commodity_Encoded  \n",
       "0                    13                  1  \n",
       "1                     7                  1  \n",
       "2                    41                  1  \n",
       "3                    15                  1  \n",
       "4                    19                  3  \n",
       "...                 ...                ...  \n",
       "266377               27                  8  \n",
       "266378               41                  8  \n",
       "266379               25                  8  \n",
       "266380               48                  8  \n",
       "266381               41                  8  \n",
       "\n",
       "[266382 rows x 8 columns]"
      ]
     },
     "execution_count": 10,
     "metadata": {},
     "output_type": "execute_result"
    }
   ],
   "source": [
    "required_data"
   ]
  },
  {
   "cell_type": "code",
   "execution_count": 11,
   "metadata": {},
   "outputs": [
    {
     "name": "stdout",
     "output_type": "stream",
     "text": [
      "[1 3 4 5 6 7 8 0 2]\n"
     ]
    }
   ],
   "source": [
    "print(required_data['Commodity_Encoded'].unique())"
   ]
  },
  {
   "cell_type": "code",
   "execution_count": 12,
   "metadata": {},
   "outputs": [
    {
     "name": "stdout",
     "output_type": "stream",
     "text": [
      "[  1   2   3   4   5   6   7   8   9  10  11  12  13  14  15  16  17  18\n",
      "  19  20  21  22  23  24  25  26  27  28  29  30  31  32  33  34  35  36\n",
      "  37  38  39  40  41  42  43  44  45  46  47  48  49  50  51  52  53  54\n",
      "  55  56  57  58  59  60  61  62  63  64  65  66  67  68  69  70  71  72\n",
      "  73  74  75  76  77  78  79  80  81  82  83  84  85  86  87  88  89  90\n",
      "  91  92  93  94  95  96  97  98  99 100 101 102 103 104 105 106 107 108\n",
      " 109 110 111 112 113 114 115 116 117 118 119 120 121 122 123 124 125 126\n",
      " 127 128 129 130 131 132 133 134 135 136 137 138 139 140 141 142 143 144\n",
      " 145 146 147 148 149 150 151 152 153 154 155 156 157 158 159 160 161 162\n",
      " 163 164 165 166 167 168 169 170 171 172 173 174 175 176 177 178 179 180\n",
      " 181 182 183 184 185 186 187 188 189 190 191 192 193 194 195 196 197 198\n",
      " 199 200 201 202 203 204 205 206 207 208 209 210 211 212 213 214 215 216\n",
      " 217 218 219 220 221 222 223 224 225 226 227 228 229 230 231 232 233 234\n",
      " 235 236 237 238 239 240 241 242 243 244 245 246 247 248 249 250 251 252\n",
      " 253 254 255 256 257 258 259]\n"
     ]
    }
   ],
   "source": [
    "encoded_var = required_data['Market Name_Encoded'].unique()\n",
    "\n",
    "# Get the length of the unique encoded values\n",
    "num_classes = len(encoded_var)\n",
    "\n",
    "# Map the encoded values to a range from 1 to num_classes - 1\n",
    "mapped_values = {encoded_var[i]: i+1 for i in range(num_classes)}\n",
    "\n",
    "# Replace the encoded values in the DataFrame with the mapped values\n",
    "required_data['Market Name_Encoded'] = required_data['Market Name_Encoded'].map(mapped_values)\n",
    "\n",
    "# Print the DataFrame with the transformed encoded values\n",
    "print(required_data['Market Name_Encoded'].unique())"
   ]
  },
  {
   "cell_type": "code",
   "execution_count": 13,
   "metadata": {},
   "outputs": [],
   "source": [
    "required_data.to_csv('datasetEncoded.csv')"
   ]
  },
  {
   "attachments": {},
   "cell_type": "markdown",
   "metadata": {},
   "source": [
    "Segregating the dependent and independent variables"
   ]
  },
  {
   "cell_type": "code",
   "execution_count": 14,
   "metadata": {},
   "outputs": [],
   "source": [
    "x = required_data[['Market Name_Encoded', 'Commodity_Encoded', 'Variety_Encoded', 'Price Date']]\n",
    "y = required_data[['Modal Price (Rs./Quintal)']]"
   ]
  },
  {
   "cell_type": "code",
   "execution_count": 32,
   "metadata": {},
   "outputs": [
    {
     "data": {
      "text/plain": [
       "array([0.34140732, 0.41328254, 0.36296988, ..., 0.19399123, 0.17932869,\n",
       "       0.1682599 ])"
      ]
     },
     "execution_count": 32,
     "metadata": {},
     "output_type": "execute_result"
    }
   ],
   "source": [
    "y"
   ]
  },
  {
   "cell_type": "code",
   "execution_count": 15,
   "metadata": {},
   "outputs": [],
   "source": [
    "y = required_data['Modal Price (Rs./Quintal)'].values\n",
    "X_market = required_data['Market Name_Encoded'].values\n",
    "X_variety = required_data['Variety_Encoded'].values\n",
    "X_commodity = required_data['Commodity_Encoded'].values\n",
    "X_date = pd.to_datetime(required_data['Price Date']).astype('int64') // 10**9"
   ]
  },
  {
   "cell_type": "code",
   "execution_count": null,
   "metadata": {},
   "outputs": [],
   "source": []
  },
  {
   "cell_type": "code",
   "execution_count": 16,
   "metadata": {},
   "outputs": [
    {
     "data": {
      "text/plain": [
       "array([[         1,          1,         13, 1577836800],\n",
       "       [         1,          1,          7, 1577836800],\n",
       "       [         2,          1,         41, 1577836800],\n",
       "       ...,\n",
       "       [       194,          8,         25, 1672444800],\n",
       "       [        12,          8,         48, 1672444800],\n",
       "       [        12,          8,         41, 1672444800]], dtype=int64)"
      ]
     },
     "execution_count": 16,
     "metadata": {},
     "output_type": "execute_result"
    }
   ],
   "source": [
    "X = np.column_stack((X_market, X_commodity, X_variety, X_date))\n",
    "X"
   ]
  },
  {
   "cell_type": "code",
   "execution_count": 17,
   "metadata": {},
   "outputs": [
    {
     "data": {
      "text/plain": [
       "array([0.34140732, 0.41328254, 0.36296988, ..., 0.19399123, 0.17932869,\n",
       "       0.1682599 ])"
      ]
     },
     "execution_count": 17,
     "metadata": {},
     "output_type": "execute_result"
    }
   ],
   "source": [
    "y"
   ]
  },
  {
   "attachments": {},
   "cell_type": "markdown",
   "metadata": {},
   "source": [
    "Train-Test Split"
   ]
  },
  {
   "cell_type": "code",
   "execution_count": 18,
   "metadata": {},
   "outputs": [],
   "source": [
    "X_train, X_test, y_train, y_test = train_test_split(X, y, test_size=0.20)"
   ]
  },
  {
   "cell_type": "code",
   "execution_count": 19,
   "metadata": {},
   "outputs": [
    {
     "data": {
      "text/html": [
       "<div>\n",
       "<style scoped>\n",
       "    .dataframe tbody tr th:only-of-type {\n",
       "        vertical-align: middle;\n",
       "    }\n",
       "\n",
       "    .dataframe tbody tr th {\n",
       "        vertical-align: top;\n",
       "    }\n",
       "\n",
       "    .dataframe thead th {\n",
       "        text-align: right;\n",
       "    }\n",
       "</style>\n",
       "<table border=\"1\" class=\"dataframe\">\n",
       "  <thead>\n",
       "    <tr style=\"text-align: right;\">\n",
       "      <th></th>\n",
       "      <th>0</th>\n",
       "      <th>1</th>\n",
       "      <th>2</th>\n",
       "      <th>3</th>\n",
       "    </tr>\n",
       "  </thead>\n",
       "  <tbody>\n",
       "    <tr>\n",
       "      <th>0</th>\n",
       "      <td>128</td>\n",
       "      <td>5</td>\n",
       "      <td>53</td>\n",
       "      <td>1605830400</td>\n",
       "    </tr>\n",
       "    <tr>\n",
       "      <th>1</th>\n",
       "      <td>143</td>\n",
       "      <td>8</td>\n",
       "      <td>34</td>\n",
       "      <td>1616716800</td>\n",
       "    </tr>\n",
       "    <tr>\n",
       "      <th>2</th>\n",
       "      <td>149</td>\n",
       "      <td>3</td>\n",
       "      <td>35</td>\n",
       "      <td>1615248000</td>\n",
       "    </tr>\n",
       "    <tr>\n",
       "      <th>3</th>\n",
       "      <td>53</td>\n",
       "      <td>8</td>\n",
       "      <td>27</td>\n",
       "      <td>1643241600</td>\n",
       "    </tr>\n",
       "    <tr>\n",
       "      <th>4</th>\n",
       "      <td>65</td>\n",
       "      <td>3</td>\n",
       "      <td>36</td>\n",
       "      <td>1589500800</td>\n",
       "    </tr>\n",
       "    <tr>\n",
       "      <th>...</th>\n",
       "      <td>...</td>\n",
       "      <td>...</td>\n",
       "      <td>...</td>\n",
       "      <td>...</td>\n",
       "    </tr>\n",
       "    <tr>\n",
       "      <th>213100</th>\n",
       "      <td>70</td>\n",
       "      <td>3</td>\n",
       "      <td>41</td>\n",
       "      <td>1613433600</td>\n",
       "    </tr>\n",
       "    <tr>\n",
       "      <th>213101</th>\n",
       "      <td>23</td>\n",
       "      <td>1</td>\n",
       "      <td>41</td>\n",
       "      <td>1640995200</td>\n",
       "    </tr>\n",
       "    <tr>\n",
       "      <th>213102</th>\n",
       "      <td>236</td>\n",
       "      <td>8</td>\n",
       "      <td>37</td>\n",
       "      <td>1616371200</td>\n",
       "    </tr>\n",
       "    <tr>\n",
       "      <th>213103</th>\n",
       "      <td>229</td>\n",
       "      <td>5</td>\n",
       "      <td>41</td>\n",
       "      <td>1639353600</td>\n",
       "    </tr>\n",
       "    <tr>\n",
       "      <th>213104</th>\n",
       "      <td>184</td>\n",
       "      <td>8</td>\n",
       "      <td>39</td>\n",
       "      <td>1636761600</td>\n",
       "    </tr>\n",
       "  </tbody>\n",
       "</table>\n",
       "<p>213105 rows × 4 columns</p>\n",
       "</div>"
      ],
      "text/plain": [
       "          0  1   2           3\n",
       "0       128  5  53  1605830400\n",
       "1       143  8  34  1616716800\n",
       "2       149  3  35  1615248000\n",
       "3        53  8  27  1643241600\n",
       "4        65  3  36  1589500800\n",
       "...     ... ..  ..         ...\n",
       "213100   70  3  41  1613433600\n",
       "213101   23  1  41  1640995200\n",
       "213102  236  8  37  1616371200\n",
       "213103  229  5  41  1639353600\n",
       "213104  184  8  39  1636761600\n",
       "\n",
       "[213105 rows x 4 columns]"
      ]
     },
     "execution_count": 19,
     "metadata": {},
     "output_type": "execute_result"
    }
   ],
   "source": [
    "X_train_pd = pd.DataFrame(X_train)\n",
    "X_train_pd"
   ]
  },
  {
   "attachments": {},
   "cell_type": "markdown",
   "metadata": {},
   "source": [
    "LightGBM (Light Gradient-Boosting Machine) Model"
   ]
  },
  {
   "cell_type": "code",
   "execution_count": 20,
   "metadata": {},
   "outputs": [],
   "source": [
    "model = lgb.LGBMRegressor(objective='regression', num_leaves=31, learning_rate=0.05, n_estimators=2000, max_depth=-1)"
   ]
  },
  {
   "cell_type": "code",
   "execution_count": 21,
   "metadata": {},
   "outputs": [
    {
     "name": "stdout",
     "output_type": "stream",
     "text": [
      "[LightGBM] [Info] Auto-choosing row-wise multi-threading, the overhead of testing was 0.002452 seconds.\n",
      "You can set `force_row_wise=true` to remove the overhead.\n",
      "And if memory is not enough, you can set `force_col_wise=true`.\n",
      "[LightGBM] [Info] Total Bins 552\n",
      "[LightGBM] [Info] Number of data points in the train set: 213105, number of used features: 4\n",
      "[LightGBM] [Info] Start training from score 0.226382\n"
     ]
    },
    {
     "data": {
      "text/html": [
       "<style>#sk-container-id-1 {color: black;}#sk-container-id-1 pre{padding: 0;}#sk-container-id-1 div.sk-toggleable {background-color: white;}#sk-container-id-1 label.sk-toggleable__label {cursor: pointer;display: block;width: 100%;margin-bottom: 0;padding: 0.3em;box-sizing: border-box;text-align: center;}#sk-container-id-1 label.sk-toggleable__label-arrow:before {content: \"▸\";float: left;margin-right: 0.25em;color: #696969;}#sk-container-id-1 label.sk-toggleable__label-arrow:hover:before {color: black;}#sk-container-id-1 div.sk-estimator:hover label.sk-toggleable__label-arrow:before {color: black;}#sk-container-id-1 div.sk-toggleable__content {max-height: 0;max-width: 0;overflow: hidden;text-align: left;background-color: #f0f8ff;}#sk-container-id-1 div.sk-toggleable__content pre {margin: 0.2em;color: black;border-radius: 0.25em;background-color: #f0f8ff;}#sk-container-id-1 input.sk-toggleable__control:checked~div.sk-toggleable__content {max-height: 200px;max-width: 100%;overflow: auto;}#sk-container-id-1 input.sk-toggleable__control:checked~label.sk-toggleable__label-arrow:before {content: \"▾\";}#sk-container-id-1 div.sk-estimator input.sk-toggleable__control:checked~label.sk-toggleable__label {background-color: #d4ebff;}#sk-container-id-1 div.sk-label input.sk-toggleable__control:checked~label.sk-toggleable__label {background-color: #d4ebff;}#sk-container-id-1 input.sk-hidden--visually {border: 0;clip: rect(1px 1px 1px 1px);clip: rect(1px, 1px, 1px, 1px);height: 1px;margin: -1px;overflow: hidden;padding: 0;position: absolute;width: 1px;}#sk-container-id-1 div.sk-estimator {font-family: monospace;background-color: #f0f8ff;border: 1px dotted black;border-radius: 0.25em;box-sizing: border-box;margin-bottom: 0.5em;}#sk-container-id-1 div.sk-estimator:hover {background-color: #d4ebff;}#sk-container-id-1 div.sk-parallel-item::after {content: \"\";width: 100%;border-bottom: 1px solid gray;flex-grow: 1;}#sk-container-id-1 div.sk-label:hover label.sk-toggleable__label {background-color: #d4ebff;}#sk-container-id-1 div.sk-serial::before {content: \"\";position: absolute;border-left: 1px solid gray;box-sizing: border-box;top: 0;bottom: 0;left: 50%;z-index: 0;}#sk-container-id-1 div.sk-serial {display: flex;flex-direction: column;align-items: center;background-color: white;padding-right: 0.2em;padding-left: 0.2em;position: relative;}#sk-container-id-1 div.sk-item {position: relative;z-index: 1;}#sk-container-id-1 div.sk-parallel {display: flex;align-items: stretch;justify-content: center;background-color: white;position: relative;}#sk-container-id-1 div.sk-item::before, #sk-container-id-1 div.sk-parallel-item::before {content: \"\";position: absolute;border-left: 1px solid gray;box-sizing: border-box;top: 0;bottom: 0;left: 50%;z-index: -1;}#sk-container-id-1 div.sk-parallel-item {display: flex;flex-direction: column;z-index: 1;position: relative;background-color: white;}#sk-container-id-1 div.sk-parallel-item:first-child::after {align-self: flex-end;width: 50%;}#sk-container-id-1 div.sk-parallel-item:last-child::after {align-self: flex-start;width: 50%;}#sk-container-id-1 div.sk-parallel-item:only-child::after {width: 0;}#sk-container-id-1 div.sk-dashed-wrapped {border: 1px dashed gray;margin: 0 0.4em 0.5em 0.4em;box-sizing: border-box;padding-bottom: 0.4em;background-color: white;}#sk-container-id-1 div.sk-label label {font-family: monospace;font-weight: bold;display: inline-block;line-height: 1.2em;}#sk-container-id-1 div.sk-label-container {text-align: center;}#sk-container-id-1 div.sk-container {/* jupyter's `normalize.less` sets `[hidden] { display: none; }` but bootstrap.min.css set `[hidden] { display: none !important; }` so we also need the `!important` here to be able to override the default hidden behavior on the sphinx rendered scikit-learn.org. See: https://github.com/scikit-learn/scikit-learn/issues/21755 */display: inline-block !important;position: relative;}#sk-container-id-1 div.sk-text-repr-fallback {display: none;}</style><div id=\"sk-container-id-1\" class=\"sk-top-container\"><div class=\"sk-text-repr-fallback\"><pre>LGBMRegressor(learning_rate=0.05, n_estimators=2000, objective=&#x27;regression&#x27;)</pre><b>In a Jupyter environment, please rerun this cell to show the HTML representation or trust the notebook. <br />On GitHub, the HTML representation is unable to render, please try loading this page with nbviewer.org.</b></div><div class=\"sk-container\" hidden><div class=\"sk-item\"><div class=\"sk-estimator sk-toggleable\"><input class=\"sk-toggleable__control sk-hidden--visually\" id=\"sk-estimator-id-1\" type=\"checkbox\" checked><label for=\"sk-estimator-id-1\" class=\"sk-toggleable__label sk-toggleable__label-arrow\">LGBMRegressor</label><div class=\"sk-toggleable__content\"><pre>LGBMRegressor(learning_rate=0.05, n_estimators=2000, objective=&#x27;regression&#x27;)</pre></div></div></div></div></div>"
      ],
      "text/plain": [
       "LGBMRegressor(learning_rate=0.05, n_estimators=2000, objective='regression')"
      ]
     },
     "execution_count": 21,
     "metadata": {},
     "output_type": "execute_result"
    }
   ],
   "source": [
    "model.fit(X_train, y_train)"
   ]
  },
  {
   "cell_type": "code",
   "execution_count": 22,
   "metadata": {},
   "outputs": [],
   "source": [
    "y_pred = model.predict(X_test)"
   ]
  },
  {
   "cell_type": "code",
   "execution_count": 23,
   "metadata": {},
   "outputs": [],
   "source": [
    "# pd_y_pred = pd.DataFrame(y_pred)\n",
    "# unscaled_pred = scaler.inverse_transform(pd_y_pred)\n",
    "# unscaled_pred"
   ]
  },
  {
   "cell_type": "code",
   "execution_count": 24,
   "metadata": {},
   "outputs": [],
   "source": [
    "# pd_y_test = pd.DataFrame(y_test)\n",
    "# unscaled_test = scaler.inverse_transform(pd_y_test)\n",
    "# unscaled_test"
   ]
  },
  {
   "cell_type": "code",
   "execution_count": 25,
   "metadata": {},
   "outputs": [
    {
     "data": {
      "text/plain": [
       "0.018932117986222293"
      ]
     },
     "execution_count": 25,
     "metadata": {},
     "output_type": "execute_result"
    }
   ],
   "source": [
    "mse = mean_squared_error(y_test, y_pred, squared=False)\n",
    "mse"
   ]
  },
  {
   "cell_type": "code",
   "execution_count": 26,
   "metadata": {},
   "outputs": [
    {
     "data": {
      "text/plain": [
       "0.9814388357922806"
      ]
     },
     "execution_count": 26,
     "metadata": {},
     "output_type": "execute_result"
    }
   ],
   "source": [
    "r2_score(y_test,y_pred)"
   ]
  },
  {
   "cell_type": "code",
   "execution_count": 27,
   "metadata": {},
   "outputs": [],
   "source": [
    "import pickle\n",
    "pickle.dump(model, open('model.pkl', 'wb'))"
   ]
  },
  {
   "cell_type": "code",
   "execution_count": 28,
   "metadata": {},
   "outputs": [],
   "source": [
    "pickle.dump(scaler, open('scaler.pkl', 'wb'))"
   ]
  },
  {
   "cell_type": "code",
   "execution_count": 29,
   "metadata": {},
   "outputs": [],
   "source": [
    "pickle.dump(encode_market, open('market.pkl', 'wb'))"
   ]
  },
  {
   "cell_type": "code",
   "execution_count": 30,
   "metadata": {},
   "outputs": [],
   "source": [
    "import os\n",
    "import pickle\n",
    "\n",
    "# Create the folder if it doesn't exist\n",
    "folder_path = 'encoders'\n",
    "if not os.path.exists(folder_path):\n",
    "    os.makedirs(folder_path)\n",
    "\n",
    "# Assuming you have your encoders already initialized and named marketName_pkl, commodity_pkl, variety_pkl\n",
    "\n",
    "# Save encoders inside the \"encoders\" folder\n",
    "# with open(os.path.join(folder_path, 'marketName_encoder.pkl'), 'wb') as f:\n",
    "#     pickle.dump(marketName_pkl, f)\n",
    "\n",
    "# with open('encode_market.pkl', 'wb') as f:\n",
    "#     pickle.dump(encode_market, f)\n",
    "\n",
    "# Save encode_variety\n",
    "# with open('encode_variety.pkl', 'wb') as f:\n",
    "#     pickle.dump(encode_variety, f)\n",
    "\n",
    "# # Save encode_commodity\n",
    "# with open('encode_commodity.pkl', 'wb') as f:\n",
    "#     pickle.dump(encode_commodity, f)"
   ]
  },
  {
   "cell_type": "code",
   "execution_count": 31,
   "metadata": {},
   "outputs": [
    {
     "name": "stdout",
     "output_type": "stream",
     "text": [
      "4.0\n"
     ]
    }
   ],
   "source": [
    "print(pickle.format_version)"
   ]
  }
 ],
 "metadata": {
  "kernelspec": {
   "display_name": "Python 3 (ipykernel)",
   "language": "python",
   "name": "python3"
  },
  "language_info": {
   "codemirror_mode": {
    "name": "ipython",
    "version": 3
   },
   "file_extension": ".py",
   "mimetype": "text/x-python",
   "name": "python",
   "nbconvert_exporter": "python",
   "pygments_lexer": "ipython3",
   "version": "3.10.3"
  },
  "orig_nbformat": 4
 },
 "nbformat": 4,
 "nbformat_minor": 2
}
